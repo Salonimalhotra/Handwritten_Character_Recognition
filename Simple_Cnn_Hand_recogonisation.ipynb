{
  "nbformat": 4,
  "nbformat_minor": 0,
  "metadata": {
    "colab": {
      "name": "Simple Cnn Hand recogonisation.ipynb",
      "provenance": [],
      "collapsed_sections": []
    },
    "kernelspec": {
      "name": "python3",
      "display_name": "Python 3"
    },
    "language_info": {
      "name": "python"
    }
  },
  "cells": [
    {
      "cell_type": "markdown",
      "metadata": {
        "id": "4tildrwgg_zr"
      },
      "source": [
        "##Importing Classes and Fuctions\n"
      ]
    },
    {
      "cell_type": "code",
      "metadata": {
        "id": "mzO6UH69hSF_"
      },
      "source": [
        "from keras.datasets import mnist\n",
        "from keras.models import Sequential\n",
        "from keras.layers import Dense\n",
        "from keras.layers import Dropout\n",
        "from keras.layers import Flatten\n",
        "from keras.layers.convolutional import Conv2D\n",
        "from keras.layers.convolutional import MaxPooling2D\n",
        "from keras.utils import np_utils"
      ],
      "execution_count": 1,
      "outputs": []
    },
    {
      "cell_type": "markdown",
      "metadata": {
        "id": "4rMqRN2viIgn"
      },
      "source": [
        "##Load the MNIST dataset and reshape"
      ]
    },
    {
      "cell_type": "code",
      "metadata": {
        "id": "KzMI3It0iQI_",
        "colab": {
          "base_uri": "https://localhost:8080/"
        },
        "outputId": "429e7c44-dd71-41cc-ec89-cb2633360a70"
      },
      "source": [
        "#load the data\n",
        "(X_train,y_train),(X_test,y_test)=mnist.load_data()\n",
        "#reshape to be [samples][width][height][channels]\n",
        "X_train=X_train.reshape(X_train.shape[0],28,28,1).astype('float32')\n",
        "X_test=X_test.reshape(X_test.shape[0],28,28,1).astype('float32')"
      ],
      "execution_count": 2,
      "outputs": [
        {
          "output_type": "stream",
          "name": "stdout",
          "text": [
            "Downloading data from https://storage.googleapis.com/tensorflow/tf-keras-datasets/mnist.npz\n",
            "11493376/11490434 [==============================] - 0s 0us/step\n",
            "11501568/11490434 [==============================] - 0s 0us/step\n"
          ]
        }
      ]
    },
    {
      "cell_type": "markdown",
      "metadata": {
        "id": "leTz0cXbjpxC"
      },
      "source": [
        "##Normalise the Pixel values\n"
      ]
    },
    {
      "cell_type": "code",
      "metadata": {
        "id": "JLogqYOgjtjd"
      },
      "source": [
        "X_train=X_train/255\n",
        "X_test=X_test/255"
      ],
      "execution_count": 3,
      "outputs": []
    },
    {
      "cell_type": "markdown",
      "metadata": {
        "id": "tqcwj50hj2_d"
      },
      "source": [
        "##One Hot Encode the output Values"
      ]
    },
    {
      "cell_type": "code",
      "metadata": {
        "colab": {
          "base_uri": "https://localhost:8080/"
        },
        "id": "zjaf09ZNkOb6",
        "outputId": "915620d0-52c1-4d3b-edc5-3b845a200363"
      },
      "source": [
        "y_test.shape"
      ],
      "execution_count": 4,
      "outputs": [
        {
          "output_type": "execute_result",
          "data": {
            "text/plain": [
              "(10000,)"
            ]
          },
          "metadata": {},
          "execution_count": 4
        }
      ]
    },
    {
      "cell_type": "code",
      "metadata": {
        "id": "I6fN7SXXj13W"
      },
      "source": [
        "y_train=np_utils.to_categorical(y_train)\n",
        "y_test=np_utils.to_categorical(y_test)\n",
        "num_classes=y_test.shape[1]"
      ],
      "execution_count": 5,
      "outputs": []
    },
    {
      "cell_type": "markdown",
      "metadata": {
        "id": "gjK7znOKlpTt"
      },
      "source": [
        "1)Building CNN=Initialising Cnn,Convolution,Pooling,Dropout,Flattening,Full Connection layer,Output Layer\n",
        "2)Compile Cnn"
      ]
    },
    {
      "cell_type": "code",
      "metadata": {
        "id": "7xWxxpX8mBLh"
      },
      "source": [
        "def baseline_model():\n",
        "  #create model\n",
        "  model=Sequential()\n",
        "  model.add(Conv2D(32,(5,5),input_shape=(28,28,1),activation='relu'))\n",
        "  model.add(MaxPooling2D(pool_size=(2,2)))\n",
        "  model.add(Dropout(0.2))\n",
        "  model.add(Flatten())\n",
        "  model.add(Dense(128,activation='relu'))\n",
        "  model.add(Dense(num_classes,activation='softmax'))\n",
        "  #Compile the model\n",
        "  model.compile(loss='categorical_crossentropy',optimizer='adam',metrics=['accuracy'])\n",
        "  return model"
      ],
      "execution_count": 6,
      "outputs": []
    },
    {
      "cell_type": "markdown",
      "metadata": {
        "id": "4xRvImO5n6fJ"
      },
      "source": [
        "Build model,Evaluate Model,Final Evaluation of model"
      ]
    },
    {
      "cell_type": "code",
      "metadata": {
        "colab": {
          "base_uri": "https://localhost:8080/"
        },
        "id": "sxTN5mO4oBaJ",
        "outputId": "6e6c3fec-95c5-427a-8704-f7d82ee3f2a3"
      },
      "source": [
        "# build the model\n",
        "model=baseline_model()\n",
        "# Fit the model\n",
        "model.fit(X_train, y_train, validation_data=(X_test, y_test), epochs=10, batch_size=200, verbose=2)\n",
        "# Final evaluation of the model\n",
        "scores = model.evaluate(X_test, y_test, verbose=0)\n",
        "print(\"CNN Error: %.2f%%\" % (100-scores[1]*100))"
      ],
      "execution_count": 7,
      "outputs": [
        {
          "output_type": "stream",
          "name": "stdout",
          "text": [
            "Epoch 1/10\n",
            "300/300 - 28s - loss: 0.2357 - accuracy: 0.9311 - val_loss: 0.0718 - val_accuracy: 0.9777 - 28s/epoch - 93ms/step\n",
            "Epoch 2/10\n",
            "300/300 - 27s - loss: 0.0743 - accuracy: 0.9776 - val_loss: 0.0481 - val_accuracy: 0.9846 - 27s/epoch - 89ms/step\n",
            "Epoch 3/10\n",
            "300/300 - 27s - loss: 0.0528 - accuracy: 0.9837 - val_loss: 0.0442 - val_accuracy: 0.9849 - 27s/epoch - 89ms/step\n",
            "Epoch 4/10\n",
            "300/300 - 27s - loss: 0.0411 - accuracy: 0.9875 - val_loss: 0.0387 - val_accuracy: 0.9861 - 27s/epoch - 89ms/step\n",
            "Epoch 5/10\n",
            "300/300 - 27s - loss: 0.0330 - accuracy: 0.9897 - val_loss: 0.0385 - val_accuracy: 0.9874 - 27s/epoch - 89ms/step\n",
            "Epoch 6/10\n",
            "300/300 - 27s - loss: 0.0277 - accuracy: 0.9911 - val_loss: 0.0363 - val_accuracy: 0.9877 - 27s/epoch - 89ms/step\n",
            "Epoch 7/10\n",
            "300/300 - 27s - loss: 0.0225 - accuracy: 0.9927 - val_loss: 0.0330 - val_accuracy: 0.9890 - 27s/epoch - 89ms/step\n",
            "Epoch 8/10\n",
            "300/300 - 26s - loss: 0.0203 - accuracy: 0.9933 - val_loss: 0.0311 - val_accuracy: 0.9903 - 26s/epoch - 88ms/step\n",
            "Epoch 9/10\n",
            "300/300 - 27s - loss: 0.0157 - accuracy: 0.9949 - val_loss: 0.0349 - val_accuracy: 0.9888 - 27s/epoch - 88ms/step\n",
            "Epoch 10/10\n",
            "300/300 - 26s - loss: 0.0141 - accuracy: 0.9957 - val_loss: 0.0314 - val_accuracy: 0.9899 - 26s/epoch - 88ms/step\n",
            "CNN Error: 1.01%\n"
          ]
        }
      ]
    }
  ]
}