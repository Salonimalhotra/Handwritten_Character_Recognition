{
  "nbformat": 4,
  "nbformat_minor": 0,
  "metadata": {
    "colab": {
      "name": " Large Cnn Hand recogonisation.ipynb",
      "provenance": [],
      "collapsed_sections": []
    },
    "kernelspec": {
      "name": "python3",
      "display_name": "Python 3"
    },
    "language_info": {
      "name": "python"
    }
  },
  "cells": [
    {
      "cell_type": "markdown",
      "metadata": {
        "id": "4tildrwgg_zr"
      },
      "source": [
        "##Importing Classes and Fuctions\n"
      ]
    },
    {
      "cell_type": "code",
      "metadata": {
        "id": "mzO6UH69hSF_"
      },
      "source": [
        "from keras.datasets import mnist\n",
        "from keras.models import Sequential\n",
        "from keras.layers import Dense\n",
        "from keras.layers import Dropout\n",
        "from keras.layers import Flatten\n",
        "from keras.layers.convolutional import Conv2D\n",
        "from keras.layers.convolutional import MaxPooling2D\n",
        "from keras.utils import np_utils"
      ],
      "execution_count": 1,
      "outputs": []
    },
    {
      "cell_type": "markdown",
      "metadata": {
        "id": "4rMqRN2viIgn"
      },
      "source": [
        "##Load the MNIST dataset and reshape"
      ]
    },
    {
      "cell_type": "code",
      "metadata": {
        "id": "KzMI3It0iQI_",
        "colab": {
          "base_uri": "https://localhost:8080/"
        },
        "outputId": "27a62711-492f-468f-9dc9-1ed712ee7c4a"
      },
      "source": [
        "#load the data\n",
        "(X_train,y_train),(X_test,y_test)=mnist.load_data()\n",
        "#reshape to be [samples][width][height][channels]\n",
        "X_train=X_train.reshape(X_train.shape[0],28,28,1).astype('float32')\n",
        "X_test=X_test.reshape(X_test.shape[0],28,28,1).astype('float32')"
      ],
      "execution_count": 2,
      "outputs": [
        {
          "output_type": "stream",
          "name": "stdout",
          "text": [
            "Downloading data from https://storage.googleapis.com/tensorflow/tf-keras-datasets/mnist.npz\n",
            "11493376/11490434 [==============================] - 0s 0us/step\n",
            "11501568/11490434 [==============================] - 0s 0us/step\n"
          ]
        }
      ]
    },
    {
      "cell_type": "markdown",
      "metadata": {
        "id": "leTz0cXbjpxC"
      },
      "source": [
        "##Normalise the Pixel values\n"
      ]
    },
    {
      "cell_type": "code",
      "metadata": {
        "id": "JLogqYOgjtjd"
      },
      "source": [
        "X_train=X_train/255\n",
        "X_test=X_test/255"
      ],
      "execution_count": 3,
      "outputs": []
    },
    {
      "cell_type": "markdown",
      "metadata": {
        "id": "tqcwj50hj2_d"
      },
      "source": [
        "##One Hot Encode the output Values"
      ]
    },
    {
      "cell_type": "code",
      "metadata": {
        "colab": {
          "base_uri": "https://localhost:8080/"
        },
        "id": "zjaf09ZNkOb6",
        "outputId": "3ec10b64-131b-4e81-b7b5-b8f59e7b09e0"
      },
      "source": [
        "y_test.shape"
      ],
      "execution_count": 4,
      "outputs": [
        {
          "output_type": "execute_result",
          "data": {
            "text/plain": [
              "(10000,)"
            ]
          },
          "metadata": {},
          "execution_count": 4
        }
      ]
    },
    {
      "cell_type": "code",
      "metadata": {
        "id": "I6fN7SXXj13W"
      },
      "source": [
        "y_train=np_utils.to_categorical(y_train)\n",
        "y_test=np_utils.to_categorical(y_test)\n",
        "num_classes=y_test.shape[1]"
      ],
      "execution_count": 5,
      "outputs": []
    },
    {
      "cell_type": "markdown",
      "metadata": {
        "id": "gjK7znOKlpTt"
      },
      "source": [
        "1)Building CNN=Initialising Cnn,Convolution,Pooling,Dropout,Flattening,Full Connection layer,Output Layer\n",
        "2)Compile Cnn"
      ]
    },
    {
      "cell_type": "code",
      "metadata": {
        "id": "7xWxxpX8mBLh"
      },
      "source": [
        "def larger_model():\n",
        "  #create model\n",
        "  model=Sequential()\n",
        "  model.add(Conv2D(32,(5,5),input_shape=(28,28,1),activation='relu'))\n",
        "  model.add(MaxPooling2D())\n",
        "  model.add(Conv2D(15,(3,3),activation='relu'))\n",
        "  model.add(MaxPooling2D())\n",
        "  model.add(Dropout(0.2))\n",
        "  model.add(Flatten())\n",
        "  model.add(Dense(128,activation='relu'))\n",
        "  model.add(Dense(50,activation='relu'))\n",
        "  model.add(Dense(num_classes,activation='softmax'))\n",
        "  #Compile the model\n",
        "  model.compile(loss='categorical_crossentropy',optimizer='adam',metrics=['accuracy'])\n",
        "  return model"
      ],
      "execution_count": 6,
      "outputs": []
    },
    {
      "cell_type": "markdown",
      "metadata": {
        "id": "4xRvImO5n6fJ"
      },
      "source": [
        "Build model,Evaluate Model,Final Evaluation of model"
      ]
    },
    {
      "cell_type": "code",
      "metadata": {
        "colab": {
          "base_uri": "https://localhost:8080/"
        },
        "id": "sxTN5mO4oBaJ",
        "outputId": "5d07af3b-2394-4360-9053-1966f18c34df"
      },
      "source": [
        "# build the model\n",
        "model=larger_model()\n",
        "# Fit the model\n",
        "model.fit(X_train, y_train, validation_data=(X_test, y_test), epochs=10, batch_size=200)\n",
        "# Final evaluation of the model\n",
        "scores = model.evaluate(X_test, y_test, verbose=0)\n",
        "print(\" Larger CNN Error: %.2f%%\" % (100-scores[1]*100))"
      ],
      "execution_count": 7,
      "outputs": [
        {
          "metadata": {
            "tags": null
          },
          "name": "stdout",
          "output_type": "stream",
          "text": [
            "Epoch 1/10\n",
            "300/300 [==============================] - 34s 111ms/step - loss: 0.3530 - accuracy: 0.8901 - val_loss: 0.0782 - val_accuracy: 0.9757\n",
            "Epoch 2/10\n",
            "300/300 [==============================] - 33s 110ms/step - loss: 0.0916 - accuracy: 0.9719 - val_loss: 0.0460 - val_accuracy: 0.9847\n",
            "Epoch 3/10\n",
            "300/300 [==============================] - 33s 110ms/step - loss: 0.0663 - accuracy: 0.9790 - val_loss: 0.0399 - val_accuracy: 0.9876\n",
            "Epoch 4/10\n",
            "300/300 [==============================] - 33s 110ms/step - loss: 0.0544 - accuracy: 0.9830 - val_loss: 0.0346 - val_accuracy: 0.9887\n",
            "Epoch 5/10\n",
            "300/300 [==============================] - 33s 110ms/step - loss: 0.0468 - accuracy: 0.9851 - val_loss: 0.0303 - val_accuracy: 0.9907\n",
            "Epoch 6/10\n",
            "300/300 [==============================] - 33s 110ms/step - loss: 0.0427 - accuracy: 0.9865 - val_loss: 0.0331 - val_accuracy: 0.9897\n",
            "Epoch 7/10\n",
            "300/300 [==============================] - 33s 110ms/step - loss: 0.0384 - accuracy: 0.9879 - val_loss: 0.0282 - val_accuracy: 0.9909\n",
            "Epoch 8/10\n",
            "300/300 [==============================] - 33s 111ms/step - loss: 0.0354 - accuracy: 0.9890 - val_loss: 0.0270 - val_accuracy: 0.9916\n",
            "Epoch 9/10\n",
            "300/300 [==============================] - 33s 110ms/step - loss: 0.0303 - accuracy: 0.9905 - val_loss: 0.0240 - val_accuracy: 0.9927\n",
            "Epoch 10/10\n",
            "300/300 [==============================] - 33s 109ms/step - loss: 0.0278 - accuracy: 0.9908 - val_loss: 0.0310 - val_accuracy: 0.9900\n",
            " Larger CNN Error: 1.00%\n"
          ]
        }
      ]
    }
  ]
}